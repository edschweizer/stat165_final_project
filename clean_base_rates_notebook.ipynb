{
  "cells": [
    {
      "cell_type": "code",
      "execution_count": 29,
      "metadata": {
        "id": "btb_6k1S2KYe"
      },
      "outputs": [],
      "source": [
        "import pandas as pd\n",
        "import numpy as np"
      ]
    },
    {
      "cell_type": "markdown",
      "metadata": {},
      "source": [
        "# Computing Base Rates and Compiling Final Dataset"
      ]
    },
    {
      "cell_type": "code",
      "execution_count": 30,
      "metadata": {
        "colab": {
          "base_uri": "https://localhost:8080/",
          "height": 206
        },
        "id": "rlFZbIOm2P3p",
        "outputId": "41ed7b9f-64b2-424b-86a2-b4eb07cc1680"
      },
      "outputs": [
        {
          "data": {
            "text/html": [
              "<div>\n",
              "<style scoped>\n",
              "    .dataframe tbody tr th:only-of-type {\n",
              "        vertical-align: middle;\n",
              "    }\n",
              "\n",
              "    .dataframe tbody tr th {\n",
              "        vertical-align: top;\n",
              "    }\n",
              "\n",
              "    .dataframe thead th {\n",
              "        text-align: right;\n",
              "    }\n",
              "</style>\n",
              "<table border=\"1\" class=\"dataframe\">\n",
              "  <thead>\n",
              "    <tr style=\"text-align: right;\">\n",
              "      <th></th>\n",
              "      <th>Sport</th>\n",
              "      <th>Event</th>\n",
              "      <th>US Gold 20</th>\n",
              "      <th>US Silver 20</th>\n",
              "      <th>US Bronze 20</th>\n",
              "      <th>US Gold 16</th>\n",
              "      <th>US Silver 16</th>\n",
              "      <th>US Bronze 16</th>\n",
              "      <th>New</th>\n",
              "    </tr>\n",
              "  </thead>\n",
              "  <tbody>\n",
              "    <tr>\n",
              "      <th>0</th>\n",
              "      <td>Archery</td>\n",
              "      <td>Men's Individual</td>\n",
              "      <td>0.0</td>\n",
              "      <td>0.0</td>\n",
              "      <td>0.0</td>\n",
              "      <td>0.0</td>\n",
              "      <td>0.0</td>\n",
              "      <td>1.0</td>\n",
              "      <td>0</td>\n",
              "    </tr>\n",
              "    <tr>\n",
              "      <th>1</th>\n",
              "      <td>Archery</td>\n",
              "      <td>Women's Individual</td>\n",
              "      <td>0.0</td>\n",
              "      <td>0.0</td>\n",
              "      <td>0.0</td>\n",
              "      <td>0.0</td>\n",
              "      <td>0.0</td>\n",
              "      <td>0.0</td>\n",
              "      <td>0</td>\n",
              "    </tr>\n",
              "    <tr>\n",
              "      <th>2</th>\n",
              "      <td>Archery</td>\n",
              "      <td>Men's Team</td>\n",
              "      <td>0.0</td>\n",
              "      <td>0.0</td>\n",
              "      <td>0.0</td>\n",
              "      <td>0.0</td>\n",
              "      <td>1.0</td>\n",
              "      <td>0.0</td>\n",
              "      <td>0</td>\n",
              "    </tr>\n",
              "    <tr>\n",
              "      <th>3</th>\n",
              "      <td>Archery</td>\n",
              "      <td>Women's Team</td>\n",
              "      <td>0.0</td>\n",
              "      <td>0.0</td>\n",
              "      <td>0.0</td>\n",
              "      <td>0.0</td>\n",
              "      <td>0.0</td>\n",
              "      <td>0.0</td>\n",
              "      <td>0</td>\n",
              "    </tr>\n",
              "    <tr>\n",
              "      <th>4</th>\n",
              "      <td>Archery</td>\n",
              "      <td>Mixed Team</td>\n",
              "      <td>0.0</td>\n",
              "      <td>0.0</td>\n",
              "      <td>0.0</td>\n",
              "      <td>0.0</td>\n",
              "      <td>0.0</td>\n",
              "      <td>0.0</td>\n",
              "      <td>0</td>\n",
              "    </tr>\n",
              "  </tbody>\n",
              "</table>\n",
              "</div>"
            ],
            "text/plain": [
              "     Sport               Event  US Gold 20  US Silver 20  US Bronze 20  \\\n",
              "0  Archery    Men's Individual         0.0           0.0           0.0   \n",
              "1  Archery  Women's Individual         0.0           0.0           0.0   \n",
              "2  Archery          Men's Team         0.0           0.0           0.0   \n",
              "3  Archery        Women's Team         0.0           0.0           0.0   \n",
              "4  Archery          Mixed Team         0.0           0.0           0.0   \n",
              "\n",
              "   US Gold 16  US Silver 16  US Bronze 16  New  \n",
              "0         0.0           0.0           1.0    0  \n",
              "1         0.0           0.0           0.0    0  \n",
              "2         0.0           1.0           0.0    0  \n",
              "3         0.0           0.0           0.0    0  \n",
              "4         0.0           0.0           0.0    0  "
            ]
          },
          "execution_count": 30,
          "metadata": {},
          "output_type": "execute_result"
        }
      ],
      "source": [
        "# Load data\n",
        "all_events = pd.read_excel('2024 Olympics Sports and Events.xlsx')\n",
        "\n",
        "# Convert to correct data types\n",
        "binary_columns = ['US Gold 20', 'US Silver 20', 'US Bronze 20',\n",
        "                 'US Gold 16', 'US Silver 16', 'US Bronze 16',\n",
        "                  'New']\n",
        "all_events[binary_columns] = all_events[binary_columns].apply(pd.to_numeric, errors='coerce')\n",
        "all_events.head()\n",
        "\n",
        "# Fill Na values with 0\n",
        "all_events = all_events.fillna(0)\n",
        "\n",
        "# Display dataframe\n",
        "all_events.head()"
      ]
    },
    {
      "cell_type": "code",
      "execution_count": 31,
      "metadata": {
        "colab": {
          "base_uri": "https://localhost:8080/",
          "height": 53
        },
        "id": "11PpLg-62aHp",
        "outputId": "6d391630-5a72-4399-ed34-68bcb5e105c0"
      },
      "outputs": [
        {
          "data": {
            "text/html": [
              "<div>\n",
              "<style scoped>\n",
              "    .dataframe tbody tr th:only-of-type {\n",
              "        vertical-align: middle;\n",
              "    }\n",
              "\n",
              "    .dataframe tbody tr th {\n",
              "        vertical-align: top;\n",
              "    }\n",
              "\n",
              "    .dataframe thead th {\n",
              "        text-align: right;\n",
              "    }\n",
              "</style>\n",
              "<table border=\"1\" class=\"dataframe\">\n",
              "  <thead>\n",
              "    <tr style=\"text-align: right;\">\n",
              "      <th></th>\n",
              "      <th>Sport</th>\n",
              "      <th>Event</th>\n",
              "      <th>US Gold 20</th>\n",
              "      <th>US Silver 20</th>\n",
              "      <th>US Bronze 20</th>\n",
              "      <th>US Gold 16</th>\n",
              "      <th>US Silver 16</th>\n",
              "      <th>US Bronze 16</th>\n",
              "      <th>New</th>\n",
              "      <th>2020 Points</th>\n",
              "      <th>2016 Points</th>\n",
              "    </tr>\n",
              "  </thead>\n",
              "  <tbody>\n",
              "  </tbody>\n",
              "</table>\n",
              "</div>"
            ],
            "text/plain": [
              "Empty DataFrame\n",
              "Columns: [Sport, Event, US Gold 20, US Silver 20, US Bronze 20, US Gold 16, US Silver 16, US Bronze 16, New, 2020 Points, 2016 Points]\n",
              "Index: []"
            ]
          },
          "execution_count": 31,
          "metadata": {},
          "output_type": "execute_result"
        }
      ],
      "source": [
        "# Create point columns for each year for each event\n",
        "all_events['2020 Points'] = (all_events['US Gold 20'] + (1/10)*all_events['US Silver 20'] + \\\n",
        "                              (1/20)*all_events['US Bronze 20']) / 1.15\n",
        "all_events['2016 Points'] = (all_events['US Gold 16'] + (1/10)*all_events['US Silver 16'] + \\\n",
        "                             (1/20)*all_events['US Bronze 16']) / 1.15\n",
        "all_events[all_events.isna().any(axis=1)]"
      ]
    },
    {
      "cell_type": "code",
      "execution_count": 32,
      "metadata": {
        "colab": {
          "base_uri": "https://localhost:8080/",
          "height": 206
        },
        "id": "2b9NyXf_3-1b",
        "outputId": "5b91065d-622f-4c8d-b7ac-1c9531f6b0ca"
      },
      "outputs": [
        {
          "data": {
            "text/html": [
              "<div>\n",
              "<style scoped>\n",
              "    .dataframe tbody tr th:only-of-type {\n",
              "        vertical-align: middle;\n",
              "    }\n",
              "\n",
              "    .dataframe tbody tr th {\n",
              "        vertical-align: top;\n",
              "    }\n",
              "\n",
              "    .dataframe thead th {\n",
              "        text-align: right;\n",
              "    }\n",
              "</style>\n",
              "<table border=\"1\" class=\"dataframe\">\n",
              "  <thead>\n",
              "    <tr style=\"text-align: right;\">\n",
              "      <th></th>\n",
              "      <th>Sport</th>\n",
              "      <th>Number of Events</th>\n",
              "    </tr>\n",
              "  </thead>\n",
              "  <tbody>\n",
              "    <tr>\n",
              "      <th>0</th>\n",
              "      <td>Archery</td>\n",
              "      <td>5</td>\n",
              "    </tr>\n",
              "    <tr>\n",
              "      <th>1</th>\n",
              "      <td>Artistic Gymnastics</td>\n",
              "      <td>14</td>\n",
              "    </tr>\n",
              "    <tr>\n",
              "      <th>2</th>\n",
              "      <td>Artistic Swimming</td>\n",
              "      <td>2</td>\n",
              "    </tr>\n",
              "    <tr>\n",
              "      <th>3</th>\n",
              "      <td>Athletics</td>\n",
              "      <td>48</td>\n",
              "    </tr>\n",
              "    <tr>\n",
              "      <th>4</th>\n",
              "      <td>Badminton</td>\n",
              "      <td>5</td>\n",
              "    </tr>\n",
              "  </tbody>\n",
              "</table>\n",
              "</div>"
            ],
            "text/plain": [
              "                 Sport  Number of Events\n",
              "0              Archery                 5\n",
              "1  Artistic Gymnastics                14\n",
              "2    Artistic Swimming                 2\n",
              "3            Athletics                48\n",
              "4            Badminton                 5"
            ]
          },
          "execution_count": 32,
          "metadata": {},
          "output_type": "execute_result"
        }
      ],
      "source": [
        "# Get the number of events for each sport category\n",
        "events_count = all_events.groupby(\"Sport\").count()[['Event']].reset_index()\n",
        "events_count = events_count.rename(columns = {\"Event\":\"Number of Events\"})\n",
        "events_count.head()"
      ]
    },
    {
      "cell_type": "code",
      "execution_count": 33,
      "metadata": {
        "colab": {
          "base_uri": "https://localhost:8080/",
          "height": 237
        },
        "id": "EZtdD0tZ4Uxl",
        "outputId": "ad86a397-561a-4534-a4a1-e4cf1cde68bb"
      },
      "outputs": [
        {
          "data": {
            "text/html": [
              "<div>\n",
              "<style scoped>\n",
              "    .dataframe tbody tr th:only-of-type {\n",
              "        vertical-align: middle;\n",
              "    }\n",
              "\n",
              "    .dataframe tbody tr th {\n",
              "        vertical-align: top;\n",
              "    }\n",
              "\n",
              "    .dataframe thead th {\n",
              "        text-align: right;\n",
              "    }\n",
              "</style>\n",
              "<table border=\"1\" class=\"dataframe\">\n",
              "  <thead>\n",
              "    <tr style=\"text-align: right;\">\n",
              "      <th></th>\n",
              "      <th>2020 Points</th>\n",
              "      <th>2016 Points</th>\n",
              "      <th>Weighted Average</th>\n",
              "    </tr>\n",
              "    <tr>\n",
              "      <th>Sport</th>\n",
              "      <th></th>\n",
              "      <th></th>\n",
              "      <th></th>\n",
              "    </tr>\n",
              "  </thead>\n",
              "  <tbody>\n",
              "    <tr>\n",
              "      <th>Basketball</th>\n",
              "      <td>0.869565</td>\n",
              "      <td>0.869565</td>\n",
              "      <td>0.869565</td>\n",
              "    </tr>\n",
              "    <tr>\n",
              "      <th>Golf</th>\n",
              "      <td>0.869565</td>\n",
              "      <td>0.021739</td>\n",
              "      <td>0.700000</td>\n",
              "    </tr>\n",
              "    <tr>\n",
              "      <th>Waterpolo</th>\n",
              "      <td>0.434783</td>\n",
              "      <td>0.434783</td>\n",
              "      <td>0.434783</td>\n",
              "    </tr>\n",
              "    <tr>\n",
              "      <th>Volleyball</th>\n",
              "      <td>0.434783</td>\n",
              "      <td>0.043478</td>\n",
              "      <td>0.356522</td>\n",
              "    </tr>\n",
              "    <tr>\n",
              "      <th>Beach Volleyball</th>\n",
              "      <td>0.434783</td>\n",
              "      <td>0.021739</td>\n",
              "      <td>0.352174</td>\n",
              "    </tr>\n",
              "  </tbody>\n",
              "</table>\n",
              "</div>"
            ],
            "text/plain": [
              "                  2020 Points  2016 Points  Weighted Average\n",
              "Sport                                                       \n",
              "Basketball           0.869565     0.869565          0.869565\n",
              "Golf                 0.869565     0.021739          0.700000\n",
              "Waterpolo            0.434783     0.434783          0.434783\n",
              "Volleyball           0.434783     0.043478          0.356522\n",
              "Beach Volleyball     0.434783     0.021739          0.352174"
            ]
          },
          "execution_count": 33,
          "metadata": {},
          "output_type": "execute_result"
        }
      ],
      "source": [
        "# Get the mean points in each sport for 2016 and 2020, and also compute weighted average\n",
        "medal_prop_by_sport = all_events.drop(columns = ['Event'])\\\n",
        "    .groupby('Sport')\\\n",
        "    .mean()[['2020 Points', '2016 Points']]\n",
        "medal_prop_by_sport['Weighted Average'] = 0.8*medal_prop_by_sport['2020 Points'] + \\\n",
        "      0.2*medal_prop_by_sport['2016 Points']\n",
        "medal_prop_by_sport.sort_values(by = \"Weighted Average\", ascending = False).head()"
      ]
    },
    {
      "cell_type": "code",
      "execution_count": 34,
      "metadata": {
        "colab": {
          "base_uri": "https://localhost:8080/",
          "height": 206
        },
        "id": "NYA6pgoS66nT",
        "outputId": "c13ef8e5-691b-4193-bc11-3cd8bf6494fe"
      },
      "outputs": [
        {
          "data": {
            "text/html": [
              "<div>\n",
              "<style scoped>\n",
              "    .dataframe tbody tr th:only-of-type {\n",
              "        vertical-align: middle;\n",
              "    }\n",
              "\n",
              "    .dataframe tbody tr th {\n",
              "        vertical-align: top;\n",
              "    }\n",
              "\n",
              "    .dataframe thead th {\n",
              "        text-align: right;\n",
              "    }\n",
              "</style>\n",
              "<table border=\"1\" class=\"dataframe\">\n",
              "  <thead>\n",
              "    <tr style=\"text-align: right;\">\n",
              "      <th></th>\n",
              "      <th>Sport</th>\n",
              "      <th>2020 Points</th>\n",
              "      <th>2016 Points</th>\n",
              "      <th>Weighted Average</th>\n",
              "    </tr>\n",
              "  </thead>\n",
              "  <tbody>\n",
              "    <tr>\n",
              "      <th>28</th>\n",
              "      <td>Weightlifting</td>\n",
              "      <td>0.013043</td>\n",
              "      <td>0.004348</td>\n",
              "      <td>0.011304</td>\n",
              "    </tr>\n",
              "    <tr>\n",
              "      <th>29</th>\n",
              "      <td>Tennis</td>\n",
              "      <td>0.000000</td>\n",
              "      <td>0.034783</td>\n",
              "      <td>0.006957</td>\n",
              "    </tr>\n",
              "    <tr>\n",
              "      <th>30</th>\n",
              "      <td>Archery</td>\n",
              "      <td>0.000000</td>\n",
              "      <td>0.026087</td>\n",
              "      <td>0.005217</td>\n",
              "    </tr>\n",
              "    <tr>\n",
              "      <th>31</th>\n",
              "      <td>Sailing</td>\n",
              "      <td>0.000000</td>\n",
              "      <td>0.004348</td>\n",
              "      <td>0.000870</td>\n",
              "    </tr>\n",
              "    <tr>\n",
              "      <th>32</th>\n",
              "      <td>Other</td>\n",
              "      <td>0.000000</td>\n",
              "      <td>0.000000</td>\n",
              "      <td>0.000000</td>\n",
              "    </tr>\n",
              "  </tbody>\n",
              "</table>\n",
              "</div>"
            ],
            "text/plain": [
              "            Sport  2020 Points  2016 Points  Weighted Average\n",
              "28  Weightlifting     0.013043     0.004348          0.011304\n",
              "29         Tennis     0.000000     0.034783          0.006957\n",
              "30        Archery     0.000000     0.026087          0.005217\n",
              "31        Sailing     0.000000     0.004348          0.000870\n",
              "32          Other     0.000000     0.000000          0.000000"
            ]
          },
          "execution_count": 34,
          "metadata": {},
          "output_type": "execute_result"
        }
      ],
      "source": [
        "# Lump together all sports with 0 weighted average into an \"Other\" category\n",
        "table_other = medal_prop_by_sport[medal_prop_by_sport['Weighted Average'] != 0].reset_index()\n",
        "table_other.loc[len(table_other.index)] = ['Other', 0,0,0]\n",
        "table_other = table_other.sort_values('Weighted Average', ascending=False) \\\n",
        "    .reset_index() \\\n",
        "    .drop(columns=['index'])\n",
        "table_other.tail()"
      ]
    },
    {
      "cell_type": "code",
      "execution_count": 35,
      "metadata": {
        "colab": {
          "base_uri": "https://localhost:8080/",
          "height": 206
        },
        "id": "jJ_lVeQC7Pkc",
        "outputId": "85b9ea42-5e4d-4128-ef8f-01e0118fec24"
      },
      "outputs": [
        {
          "data": {
            "text/html": [
              "<div>\n",
              "<style scoped>\n",
              "    .dataframe tbody tr th:only-of-type {\n",
              "        vertical-align: middle;\n",
              "    }\n",
              "\n",
              "    .dataframe tbody tr th {\n",
              "        vertical-align: top;\n",
              "    }\n",
              "\n",
              "    .dataframe thead th {\n",
              "        text-align: right;\n",
              "    }\n",
              "</style>\n",
              "<table border=\"1\" class=\"dataframe\">\n",
              "  <thead>\n",
              "    <tr style=\"text-align: right;\">\n",
              "      <th></th>\n",
              "      <th>Sport</th>\n",
              "      <th>Number of Events</th>\n",
              "    </tr>\n",
              "  </thead>\n",
              "  <tbody>\n",
              "    <tr>\n",
              "      <th>41</th>\n",
              "      <td>Volleyball</td>\n",
              "      <td>2</td>\n",
              "    </tr>\n",
              "    <tr>\n",
              "      <th>42</th>\n",
              "      <td>Waterpolo</td>\n",
              "      <td>2</td>\n",
              "    </tr>\n",
              "    <tr>\n",
              "      <th>43</th>\n",
              "      <td>Weightlifting</td>\n",
              "      <td>10</td>\n",
              "    </tr>\n",
              "    <tr>\n",
              "      <th>44</th>\n",
              "      <td>Wrestling</td>\n",
              "      <td>18</td>\n",
              "    </tr>\n",
              "    <tr>\n",
              "      <th>45</th>\n",
              "      <td>Other</td>\n",
              "      <td>36</td>\n",
              "    </tr>\n",
              "  </tbody>\n",
              "</table>\n",
              "</div>"
            ],
            "text/plain": [
              "            Sport  Number of Events\n",
              "41     Volleyball                 2\n",
              "42      Waterpolo                 2\n",
              "43  Weightlifting                10\n",
              "44      Wrestling                18\n",
              "45          Other                36"
            ]
          },
          "execution_count": 35,
          "metadata": {},
          "output_type": "execute_result"
        }
      ],
      "source": [
        "# Get the total number of events in the sports lumped together into the \"Other\" category\n",
        "other = medal_prop_by_sport[medal_prop_by_sport['Weighted Average'] == 0]\n",
        "other_counts = other.merge(events_count, on = 'Sport', how = 'left')\n",
        "other_impute = np.sum(other_counts['Number of Events'])\n",
        "\n",
        "# Update the events count table\n",
        "events_count = events_count._append({'Sport':'Other',\n",
        "                                     'Number of Events':other_impute}, ignore_index=True)\n",
        "events_count.tail()"
      ]
    },
    {
      "cell_type": "code",
      "execution_count": 36,
      "metadata": {
        "colab": {
          "base_uri": "https://localhost:8080/",
          "height": 206
        },
        "id": "paudH50X8s8n",
        "outputId": "e2f86ce4-7429-4ab5-d9e9-9a4d23143dca"
      },
      "outputs": [
        {
          "data": {
            "text/html": [
              "<div>\n",
              "<style scoped>\n",
              "    .dataframe tbody tr th:only-of-type {\n",
              "        vertical-align: middle;\n",
              "    }\n",
              "\n",
              "    .dataframe tbody tr th {\n",
              "        vertical-align: top;\n",
              "    }\n",
              "\n",
              "    .dataframe thead th {\n",
              "        text-align: right;\n",
              "    }\n",
              "</style>\n",
              "<table border=\"1\" class=\"dataframe\">\n",
              "  <thead>\n",
              "    <tr style=\"text-align: right;\">\n",
              "      <th></th>\n",
              "      <th>Sport</th>\n",
              "      <th>2020 Points</th>\n",
              "      <th>2016 Points</th>\n",
              "      <th>Weighted Average</th>\n",
              "      <th>Number of Events</th>\n",
              "    </tr>\n",
              "  </thead>\n",
              "  <tbody>\n",
              "    <tr>\n",
              "      <th>0</th>\n",
              "      <td>Basketball</td>\n",
              "      <td>0.869565</td>\n",
              "      <td>0.869565</td>\n",
              "      <td>0.869565</td>\n",
              "      <td>2</td>\n",
              "    </tr>\n",
              "    <tr>\n",
              "      <th>1</th>\n",
              "      <td>Golf</td>\n",
              "      <td>0.869565</td>\n",
              "      <td>0.021739</td>\n",
              "      <td>0.700000</td>\n",
              "      <td>2</td>\n",
              "    </tr>\n",
              "    <tr>\n",
              "      <th>2</th>\n",
              "      <td>Waterpolo</td>\n",
              "      <td>0.434783</td>\n",
              "      <td>0.434783</td>\n",
              "      <td>0.434783</td>\n",
              "      <td>2</td>\n",
              "    </tr>\n",
              "    <tr>\n",
              "      <th>3</th>\n",
              "      <td>Volleyball</td>\n",
              "      <td>0.434783</td>\n",
              "      <td>0.043478</td>\n",
              "      <td>0.356522</td>\n",
              "      <td>2</td>\n",
              "    </tr>\n",
              "    <tr>\n",
              "      <th>4</th>\n",
              "      <td>Beach Volleyball</td>\n",
              "      <td>0.434783</td>\n",
              "      <td>0.021739</td>\n",
              "      <td>0.352174</td>\n",
              "      <td>2</td>\n",
              "    </tr>\n",
              "  </tbody>\n",
              "</table>\n",
              "</div>"
            ],
            "text/plain": [
              "              Sport  2020 Points  2016 Points  Weighted Average  \\\n",
              "0        Basketball     0.869565     0.869565          0.869565   \n",
              "1              Golf     0.869565     0.021739          0.700000   \n",
              "2         Waterpolo     0.434783     0.434783          0.434783   \n",
              "3        Volleyball     0.434783     0.043478          0.356522   \n",
              "4  Beach Volleyball     0.434783     0.021739          0.352174   \n",
              "\n",
              "   Number of Events  \n",
              "0                 2  \n",
              "1                 2  \n",
              "2                 2  \n",
              "3                 2  \n",
              "4                 2  "
            ]
          },
          "execution_count": 36,
          "metadata": {},
          "output_type": "execute_result"
        }
      ],
      "source": [
        "# Construct final table by merging the number of events for each sport\n",
        "final_table = table_other.merge(events_count, on = \"Sport\", how = \"left\")\n",
        "final_table.head()"
      ]
    },
    {
      "cell_type": "code",
      "execution_count": 37,
      "metadata": {
        "id": "disgjFeW9A4L"
      },
      "outputs": [],
      "source": [
        "# Download the .csv\n",
        "final_table.to_csv('final_forecast_dataset.csv')"
      ]
    }
  ],
  "metadata": {
    "colab": {
      "provenance": []
    },
    "kernelspec": {
      "display_name": "Python 3",
      "name": "python3"
    },
    "language_info": {
      "codemirror_mode": {
        "name": "ipython",
        "version": 3
      },
      "file_extension": ".py",
      "mimetype": "text/x-python",
      "name": "python",
      "nbconvert_exporter": "python",
      "pygments_lexer": "ipython3",
      "version": "3.11.6"
    }
  },
  "nbformat": 4,
  "nbformat_minor": 0
}
